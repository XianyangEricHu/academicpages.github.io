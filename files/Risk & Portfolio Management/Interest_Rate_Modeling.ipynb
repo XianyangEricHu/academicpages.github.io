{
 "cells": [
  {
   "cell_type": "markdown",
   "id": "cf95e560",
   "metadata": {},
   "source": [
    "Use chap4.py to get the 3-currency data used in Chapter 4 of QRPM from the beginning of 1971 to the end of 2021. Take the year 2021 out of this data (the holdout set; the data before that is the learning set. Compute the learning set's equality-constrained efficient frontier as in the formulas for its means and standard deviation."
   ]
  },
  {
   "cell_type": "code",
   "execution_count": 1,
   "id": "14ec2dac",
   "metadata": {},
   "outputs": [
    {
     "name": "stdout",
     "output_type": "stream",
     "text": [
      "Intel MKL WARNING: Support of Intel(R) Streaming SIMD Extensions 4.2 (Intel(R) SSE4.2) enabled only processors has been deprecated. Intel oneAPI Math Kernel Library 2025.0 will require Intel(R) Advanced Vector Extensions (Intel(R) AVX) instructions.\n",
      "Intel MKL WARNING: Support of Intel(R) Streaming SIMD Extensions 4.2 (Intel(R) SSE4.2) enabled only processors has been deprecated. Intel oneAPI Math Kernel Library 2025.0 will require Intel(R) Advanced Vector Extensions (Intel(R) AVX) instructions.\n"
     ]
    }
   ],
   "source": [
    "#chap4.py\n",
    "import pandas as pd\n",
    "import qrpm_funcs as qf\n",
    "#Get 3 currencies until the end of\n",
    "#previous year. Form sample covariance matrix\n",
    "#and do simple efficient frontier calculations\n",
    "\n",
    "lastday=qf.LastYearEnd()\n",
    "#Swiss franc, pound sterling, Japanese Yen\n",
    "seriesnames=['DEXSZUS','DEXUSUK','DEXJPUS']\n",
    "cdates,ratematrix=qf.GetFREDMatrix(seriesnames,enddate=lastday)\n",
    "multipliers=[-1,1,-1]\n",
    "\n",
    "lgdates,difflgs=qf.levels_to_log_returns(cdates,ratematrix,multipliers)"
   ]
  },
  {
   "cell_type": "markdown",
   "id": "796621c5",
   "metadata": {},
   "source": [
    "### Use the formulas for the efficient frontier\n",
    "\n",
    "The formulas for the equality-constrained efficient frontier are:\n",
    "\n",
    "$$\n",
    "\\mu = \\frac{\\sum_{i} w_i \\mu_i}{\\sum_{i} w_i}\n",
    "$$\n",
    "Where:\n",
    "- $ \\mu $ = Portfolio return\n",
    "- $ w_i $ = Weight of asset i in the portfolio (equal weights for all assets in this case)\n",
    "- $ \\mu_i $ = Return of asset i\n",
    "\n",
    "$$\n",
    "\\sigma = \\sqrt{w^T \\Sigma w}\n",
    "$$\n",
    "Where:\n",
    "- $ \\sigma $ = Portfolio standard deviation\n",
    "- $ w $ = Vector of portfolio weights\n",
    "- $ \\Sigma $ = Covariance matrix\n",
    "\n"
   ]
  },
  {
   "cell_type": "code",
   "execution_count": 2,
   "id": "720c4696",
   "metadata": {},
   "outputs": [
    {
     "name": "stdout",
     "output_type": "stream",
     "text": [
      "Intel MKL WARNING: Support of Intel(R) Streaming SIMD Extensions 4.2 (Intel(R) SSE4.2) enabled only processors has been deprecated. Intel oneAPI Math Kernel Library 2025.0 will require Intel(R) Advanced Vector Extensions (Intel(R) AVX) instructions.\n",
      "Equality-Constrained Portfolio Return: 5.929673476567304e-05\n",
      "Equality-Constrained Portfolio Standard Deviation: 0.005182871343279609\n"
     ]
    }
   ],
   "source": [
    "import pandas as pd\n",
    "import qrpm_funcs as qf\n",
    "import numpy as np\n",
    "\n",
    "# Convert the list of dates to a pandas datetime format\n",
    "lgdates_dt = pd.to_datetime(lgdates)\n",
    "\n",
    "# Convert the log returns to a DataFrame for easier slicing\n",
    "df = pd.DataFrame(difflgs, index=lgdates_dt)\n",
    "\n",
    "# Extract the data for the year 2021\n",
    "holdout_data = df[df.index.year == 2021]\n",
    "learning_data = df[df.index.year < 2021]\n",
    "\n",
    "# Calculate mean returns and the sample covariance matrix for the data up to 2020\n",
    "mean_returns = learning_data.mean()\n",
    "cov_matrix = learning_data.cov()\n",
    "\n",
    "# Calculate the equality-constrained efficient frontier\n",
    "n_assets = len(seriesnames)\n",
    "equal_weights = np.repeat(1/n_assets, n_assets)\n",
    "\n",
    "portfolio_return = np.dot(equal_weights, mean_returns)\n",
    "portfolio_std_dev = np.sqrt(np.dot(equal_weights.T, np.dot(cov_matrix, equal_weights)))\n",
    "\n",
    "print(\"Equality-Constrained Portfolio Return:\", portfolio_return)\n",
    "print(\"Equality-Constrained Portfolio Standard Deviation:\", portfolio_std_dev)\n"
   ]
  },
  {
   "cell_type": "code",
   "execution_count": 3,
   "id": "d7031298",
   "metadata": {
    "scrolled": false
   },
   "outputs": [
    {
     "name": "stdout",
     "output_type": "stream",
     "text": [
      "Intel MKL WARNING: Support of Intel(R) Streaming SIMD Extensions 4.2 (Intel(R) SSE4.2) enabled only processors has been deprecated. Intel oneAPI Math Kernel Library 2025.0 will require Intel(R) Advanced Vector Extensions (Intel(R) AVX) instructions.\n",
      "Intel MKL WARNING: Support of Intel(R) Streaming SIMD Extensions 4.2 (Intel(R) SSE4.2) enabled only processors has been deprecated. Intel oneAPI Math Kernel Library 2025.0 will require Intel(R) Advanced Vector Extensions (Intel(R) AVX) instructions.\n",
      "Intel MKL WARNING: Support of Intel(R) Streaming SIMD Extensions 4.2 (Intel(R) SSE4.2) enabled only processors has been deprecated. Intel oneAPI Math Kernel Library 2025.0 will require Intel(R) Advanced Vector Extensions (Intel(R) AVX) instructions.\n",
      "Intel MKL WARNING: Support of Intel(R) Streaming SIMD Extensions 4.2 (Intel(R) SSE4.2) enabled only processors has been deprecated. Intel oneAPI Math Kernel Library 2025.0 will require Intel(R) Advanced Vector Extensions (Intel(R) AVX) instructions.\n",
      "Intel MKL WARNING: Support of Intel(R) Streaming SIMD Extensions 4.2 (Intel(R) SSE4.2) enabled only processors has been deprecated. Intel oneAPI Math Kernel Library 2025.0 will require Intel(R) Advanced Vector Extensions (Intel(R) AVX) instructions.\n",
      "Intel MKL WARNING: Support of Intel(R) Streaming SIMD Extensions 4.2 (Intel(R) SSE4.2) enabled only processors has been deprecated. Intel oneAPI Math Kernel Library 2025.0 will require Intel(R) Advanced Vector Extensions (Intel(R) AVX) instructions.\n",
      "Intel MKL WARNING: Support of Intel(R) Streaming SIMD Extensions 4.2 (Intel(R) SSE4.2) enabled only processors has been deprecated. Intel oneAPI Math Kernel Library 2025.0 will require Intel(R) Advanced Vector Extensions (Intel(R) AVX) instructions.\n",
      "Intel MKL WARNING: Support of Intel(R) Streaming SIMD Extensions 4.2 (Intel(R) SSE4.2) enabled only processors has been deprecated. Intel oneAPI Math Kernel Library 2025.0 will require Intel(R) Advanced Vector Extensions (Intel(R) AVX) instructions.\n",
      "Intel MKL WARNING: Support of Intel(R) Streaming SIMD Extensions 4.2 (Intel(R) SSE4.2) enabled only processors has been deprecated. Intel oneAPI Math Kernel Library 2025.0 will require Intel(R) Advanced Vector Extensions (Intel(R) AVX) instructions.\n",
      "Intel MKL WARNING: Support of Intel(R) Streaming SIMD Extensions 4.2 (Intel(R) SSE4.2) enabled only processors has been deprecated. Intel oneAPI Math Kernel Library 2025.0 will require Intel(R) Advanced Vector Extensions (Intel(R) AVX) instructions.\n",
      "Intel MKL WARNING: Support of Intel(R) Streaming SIMD Extensions 4.2 (Intel(R) SSE4.2) enabled only processors has been deprecated. Intel oneAPI Math Kernel Library 2025.0 will require Intel(R) Advanced Vector Extensions (Intel(R) AVX) instructions.\n",
      "Learning Set Variances Order: [10  9  8  7  6  5  4  3  2  1  0]\n",
      "Holdout Set Variances Order: [10  9  8  7  6  5  4  3  2  1  0]\n",
      "The order of variances is the SAME in both sets.\n"
     ]
    }
   ],
   "source": [
    "import numpy as np\n",
    "\n",
    "def compute_optimal_weights(cov_matrix, mean_returns, lambda_value):\n",
    "    \"\"\"Compute the optimal portfolio weights.\"\"\"\n",
    "    inv_cov = np.linalg.inv(cov_matrix)\n",
    "    numerator = np.dot(inv_cov, mean_returns)\n",
    "    denominator = lambda_value + np.dot(np.ones_like(mean_returns), numerator)\n",
    "    return numerator / denominator\n",
    "\n",
    "lambdas = [0.01 * i for i in range(11)]\n",
    "learning_variances = []\n",
    "holdout_variances = []\n",
    "\n",
    "# Compute portfolio weights for each lambda and calculate variance in both sets\n",
    "for lambda_value in lambdas:\n",
    "    weights = compute_optimal_weights(cov_matrix, mean_returns, lambda_value)\n",
    "    \n",
    "    # Portfolio variance in learning set\n",
    "    learning_variance = np.dot(weights.T, np.dot(cov_matrix, weights))\n",
    "    learning_variances.append(learning_variance)\n",
    "    \n",
    "    # Portfolio variance in holdout set\n",
    "    holdout_cov_matrix = holdout_data.cov()\n",
    "    holdout_variance = np.dot(weights.T, np.dot(holdout_cov_matrix, weights))\n",
    "    holdout_variances.append(holdout_variance)\n",
    "\n",
    "# Check order of variances\n",
    "learning_order = np.argsort(learning_variances)\n",
    "holdout_order = np.argsort(holdout_variances)\n",
    "\n",
    "print(\"Learning Set Variances Order:\", learning_order)\n",
    "print(\"Holdout Set Variances Order:\", holdout_order)\n",
    "\n",
    "# Check if the order of variances is the same in both sets\n",
    "if np.array_equal(learning_order, holdout_order):\n",
    "    print(\"The order of variances is the SAME in both sets.\")\n",
    "else:\n",
    "    print(\"The order of variances is DIFFERENT in both sets.\")"
   ]
  }
 ],
 "metadata": {
  "kernelspec": {
   "display_name": "Python 3 (ipykernel)",
   "language": "python",
   "name": "python3"
  },
  "language_info": {
   "codemirror_mode": {
    "name": "ipython",
    "version": 3
   },
   "file_extension": ".py",
   "mimetype": "text/x-python",
   "name": "python",
   "nbconvert_exporter": "python",
   "pygments_lexer": "ipython3",
   "version": "3.11.5"
  }
 },
 "nbformat": 4,
 "nbformat_minor": 5
}
