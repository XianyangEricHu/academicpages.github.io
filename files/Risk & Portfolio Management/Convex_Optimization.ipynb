{
 "cells": [
  {
   "cell_type": "markdown",
   "id": "f9b746ab",
   "metadata": {},
   "source": [
    "# Question 1"
   ]
  },
  {
   "cell_type": "markdown",
   "id": "537d8185",
   "metadata": {},
   "source": [
    "For the LP problem to have a finite solution, the region of constraints must be bounded, i.e., the space $\\{x: Ax\\leq b\\}$ must be closed and bounded and not an empty set.  What condition must hold in order for there to be a finite solution to this problem? What is the optimal value of the objective function?\n",
    "\n",
    "To obtain the optimal value of the objective function. We can derive the Lagrangian and apply KKT conditions. \n",
    "\n",
    "$$L = m^Tx+\\lambda(Ax-b)$$\n",
    "\n",
    "1. **Stationarity condition**:\n",
    "$$\n",
    "\\mathbf{m} + \\mathbf{A^T \\lambda} = 0\n",
    "$$\n",
    "\n",
    "Where $\\lambda$ is the vector of Lagrange multipliers for the inequality constraints. Since $A$ is invertible, we get $\\lambda = -(A^T)^{-1}m$.\n",
    "\n",
    "$$L = m^Tx+-(A^T)^{-1}m(Ax-b)$$\n",
    "\n",
    "2. **Primal feasibility**:\n",
    "$$\n",
    "\\mathbf{Ax} \\leq \\mathbf{b}\n",
    "$$\n",
    "\n",
    "3. **Dual feasibility**:\n",
    "$$\n",
    "\\lambda \\geq 0\n",
    "$$\n",
    "\n",
    "4. **Complementary slackness**:\n",
    "$$\n",
    "\\lambda_i ( \\mathbf{a_i^T x} - b_i ) = 0, \\quad \\text{for all } i\n",
    "$$\n",
    "\n",
    "Where $ \\mathbf{a_i^T} $ is the $i$-th row of matrix $ \\mathbf{A} $ and $ b_i $ is the $i$-th element of vector $\\mathbf{b}$. This condition states that if the $i$-th constraint is not binding at the optimal solution, then the corresponding Lagrange multiplier $\\lambda_i$ is zero.\n",
    "\n",
    "Solved $x = A^{-1}b$. \n",
    "\n",
    "Under these conditions, the strong duality holds and the solution is optimal. The optimal value is $m^TA^{-1}b$"
   ]
  },
  {
   "cell_type": "markdown",
   "id": "c1ada543",
   "metadata": {},
   "source": [
    "# Question 2"
   ]
  },
  {
   "cell_type": "markdown",
   "id": "771334d7",
   "metadata": {},
   "source": [
    "Solve the optimization problem below:\n",
    "\n",
    "$$ \\text{minimize} \\quad x^2 + 1 $$\n",
    "\n",
    "$$ \\text{subject to} \\quad (x-2)(x-4) \\leq 0 $$\n",
    "\n",
    "Feasible region: $x \\in [2,4]$\n",
    "\n",
    "The optimal value is $\\min\\{x^2+1\\} = 5$\n",
    "\n",
    "We have the Lagrangian \n",
    "$$L(\\lambda)= x^2 + 1 + \\lambda (x-2)(x-4)$$\n",
    "\n",
    "And $$\\frac{\\partial L}{\\partial x}=2x + 2\\lambda x - 6\\lambda = 0$$\n",
    "So we have $$x = \\frac{3\\lambda}{1+\\lambda}$$ \n",
    "Thus the dual problem is $$ \\max \\;\\;\\;(\\frac{3\\lambda}{1+\\lambda})^2+1+\\lambda(\\frac{3\\lambda}{1+\\lambda}-2)(\\frac{3\\lambda}{1+\\lambda}-4)$$\n",
    "\n",
    "$$s.t. \\lambda \\geq 0$$\n",
    "\n",
    "Using FOC we may compute the max value for the dual problem to be $5$ when $\\lambda = 2$. Since $V_D = V_P$, we know that the strong duality holds."
   ]
  },
  {
   "cell_type": "markdown",
   "id": "506630a5",
   "metadata": {},
   "source": [
    "# Question 3"
   ]
  },
  {
   "cell_type": "markdown",
   "id": "23c4505a",
   "metadata": {},
   "source": [
    "\\begin{align*}\n",
    "\\text{minimize} \\quad & \\frac{1}{2} x^T C x - \\gamma \\exp\\left(- \\sum_{i: x_i > 0} x_i \\cdot \\ln(x_i)\\right) \\\\\n",
    "\\text{subject to} \\quad & u^T x = 1 \\\\\n",
    "& x \\in \\mathbb{R}^n\n",
    "\\end{align*}"
   ]
  },
  {
   "cell_type": "markdown",
   "id": "c2ee33aa",
   "metadata": {},
   "source": [
    "The problem can be converted into a unconstrained problem as follows:\n",
    "\n",
    "$$\\text{minimize} \\quad \\frac{1}{2} x^T C x - \\gamma \\exp\\left(- \\sum_{i: x_i > 0} x_i \\cdot \\ln(x_i)\\right)+ F(u^Tx-1)$$\n",
    "\n",
    "where $F(0)= 0$ and $F(x)=\\infty$ if $x\\neq 0$."
   ]
  },
  {
   "cell_type": "code",
   "execution_count": 37,
   "id": "f642659b",
   "metadata": {},
   "outputs": [
    {
     "name": "stdout",
     "output_type": "stream",
     "text": [
      "Optimal portfolio weights: [0.06798985 0.50363351 0.42837664]\n"
     ]
    }
   ],
   "source": [
    "import cvxpy as cp\n",
    "import numpy as np\n",
    "\n",
    "# Covariance matrix\n",
    "C = np.array([[0.4961, 0.2414, 0.2141], \n",
    "              [0.2414, 0.3588, 0.1165], \n",
    "              [0.2141, 0.1165, 0.4057]])\n",
    "\n",
    "# Define the optimization variable\n",
    "x = cp.Variable(3)\n",
    "\n",
    "# Objective function\n",
    "objective = cp.Minimize(0.5 * cp.quad_form(x, C))\n",
    "\n",
    "# Constraints\n",
    "constraints = [\n",
    "    cp.sum(x) == 1,  # Budget constraint\n",
    "    x >= 0           # Long-only constraint\n",
    "]\n",
    "\n",
    "# Form and solve the optimization problem\n",
    "prob = cp.Problem(objective, constraints)\n",
    "prob.solve()\n",
    "\n",
    "# This method is more stable than gradient descent!\n",
    "print(\"Optimal portfolio weights:\", x.value)"
   ]
  },
  {
   "cell_type": "markdown",
   "id": "7ae88e66",
   "metadata": {},
   "source": [
    "### Conclusion \n",
    "\n",
    "Using a more stable optimization method, we verified the optimal portfolio weights as shown in (4.6#)\n",
    "\n",
    "Below is a less accurate gradient descent method."
   ]
  },
  {
   "cell_type": "code",
   "execution_count": 69,
   "id": "ec1ae09a",
   "metadata": {},
   "outputs": [
    {
     "name": "stdout",
     "output_type": "stream",
     "text": [
      "[0.059599   0.50024938 0.44015163]\n"
     ]
    }
   ],
   "source": [
    "import numpy as np\n",
    "\n",
    "def objective_function(x, C, gamma):\n",
    "    quadratic_term = 0.5 * np.dot(x.T, np.dot(C, x))\n",
    "    exp_term = -gamma * np.exp(-np.sum(x[x > 1e-9] * np.log(x[x > 1e-9])))\n",
    "    return quadratic_term + exp_term\n",
    "\n",
    "def compute_gradient(x, C, gamma):\n",
    "    # Gradient for quadratic term\n",
    "    grad_quad = np.dot(C, x)\n",
    "    \n",
    "    # Gradient for exponential term\n",
    "    mask = x > 1e-9\n",
    "    grad_exp_term = np.zeros_like(x)\n",
    "    grad_exp_term[mask] = -gamma * np.exp(-np.sum(x[mask] * np.log(x[mask]))) * (np.log(x[mask]) + 1)\n",
    "    \n",
    "    return grad_quad + grad_exp_term\n",
    "\n",
    "def gradient_descent(C, u, gamma, max_iters=1000, alpha=0.001, tol=1e-6):\n",
    "    x = np.array([0.06, 0.5, 0.44])\n",
    "    prev_obj = float('inf')\n",
    "    \n",
    "    for i in range(max_iters):\n",
    "        gradient = compute_gradient(x, C, gamma)\n",
    "        \n",
    "        # Update step\n",
    "        x -= alpha * gradient\n",
    "        \n",
    "        # Projection to ensure positivity\n",
    "        x = np.maximum(x, 1e-9)\n",
    "        \n",
    "        # Projection to ensure u^Tx = 1\n",
    "        scaling_factor = np.dot(u, x)\n",
    "        x /= scaling_factor\n",
    "        \n",
    "        # Check for convergence\n",
    "        current_obj = objective_function(x, C, gamma)\n",
    "        if abs(prev_obj - current_obj) < tol:\n",
    "            break\n",
    "        prev_obj = current_obj\n",
    "\n",
    "    return x\n",
    "\n",
    "C = np.array([[0.4961, 0.2414, 0.2141], \n",
    "              [0.2414, 0.3588, 0.1165], \n",
    "              [0.2141, 0.1165, 0.4057]])\n",
    "u = np.array([1, 1, 1])\n",
    "gamma = 0\n",
    "\n",
    "optimized_x = gradient_descent(C, u, gamma)\n",
    "print(optimized_x)"
   ]
  },
  {
   "cell_type": "markdown",
   "id": "16107044",
   "metadata": {},
   "source": [
    "### Verify that you get an equal-weighted portfolio for a large $\\lambda$."
   ]
  },
  {
   "cell_type": "code",
   "execution_count": 88,
   "id": "413f1e92",
   "metadata": {},
   "outputs": [
    {
     "name": "stdout",
     "output_type": "stream",
     "text": [
      "Optimal portfolio weights for large lambda: [0.33333175 0.33333409 0.33333416]\n"
     ]
    },
    {
     "name": "stderr",
     "output_type": "stream",
     "text": [
      "/Users/Eric/opt/anaconda3/envs/dsm/lib/python3.11/site-packages/cvxpy/reductions/solvers/solving_chain.py:336: FutureWarning: \n",
      "    Your problem is being solved with the ECOS solver by default. Starting in \n",
      "    CVXPY 1.5.0, Clarabel will be used as the default solver instead. To continue \n",
      "    using ECOS, specify the ECOS solver explicitly using the ``solver=cp.ECOS`` \n",
      "    argument to the ``problem.solve`` method.\n",
      "    \n",
      "  warnings.warn(ECOS_DEPRECATION_MSG, FutureWarning)\n"
     ]
    }
   ],
   "source": [
    "import cvxpy as cp\n",
    "import numpy as np\n",
    "\n",
    "# Covariance matrix\n",
    "C = np.array([[0.4961, 0.2414, 0.2141], \n",
    "              [0.2414, 0.3588, 0.1165], \n",
    "              [0.2141, 0.1165, 0.4057]])\n",
    "\n",
    "# Define the optimization variable\n",
    "x = cp.Variable(3, nonneg=True)\n",
    "\n",
    "# Define a large lambda\n",
    "lambda_large = 10000\n",
    "\n",
    "# Objective function with entropy term\n",
    "objective = cp.Minimize(0.5 * cp.quad_form(x, C) - lambda_large * cp.sum(cp.entr(x)))\n",
    "\n",
    "# Constraints\n",
    "constraints = [\n",
    "    cp.sum(x) == 1  # Budget constraint\n",
    "]\n",
    "\n",
    "# Form and solve the optimization problem\n",
    "prob = cp.Problem(objective, constraints)\n",
    "prob.solve()\n",
    "\n",
    "print(\"Optimal portfolio weights for large lambda:\", x.value)\n"
   ]
  },
  {
   "cell_type": "markdown",
   "id": "4b7fbda1",
   "metadata": {},
   "source": [
    "### Conclusion\n",
    "\n",
    "We verified that the output is an equal-weighted portfolio."
   ]
  },
  {
   "cell_type": "code",
   "execution_count": 92,
   "id": "6208b241",
   "metadata": {},
   "outputs": [
    {
     "name": "stdout",
     "output_type": "stream",
     "text": [
      "Optimal gamma that gives 20% weight to CHF: 0.01\n",
      "Weights for this gamma value: [0.2        0.42492944 0.37507056]\n"
     ]
    }
   ],
   "source": [
    "import cvxpy as cp\n",
    "import numpy as np\n",
    "\n",
    "# Your covariance matrix from before:\n",
    "C = np.array([[0.4961, 0.2414, 0.2141], \n",
    "              [0.2414, 0.3588, 0.1165], \n",
    "              [0.2141, 0.1165, 0.4057]])\n",
    "\n",
    "# Expected returns for each asset (you would need to provide this)\n",
    "# For this example, I'll assume a random expected return for each asset:\n",
    "expected_returns = np.array([0.02, 0.03, 0.04]) \n",
    "\n",
    "# Define optimization variables\n",
    "x = cp.Variable(3)\n",
    "gamma = cp.Parameter(nonneg=True)  # gamma is a parameter in our problem\n",
    "\n",
    "# Define the objective function: minimize (x^T * C * x - gamma * x^T * expected_returns)\n",
    "objective = cp.Minimize(cp.quad_form(x, C) - gamma * x.T @ expected_returns)\n",
    "\n",
    "# Define the constraints\n",
    "constraints = [\n",
    "    cp.sum(x) == 1,  # Sum of weights is 1\n",
    "    x >= 0,          # No short-selling\n",
    "    x[0] == 0.20     # Weight of CHF is 20%\n",
    "]\n",
    "\n",
    "# Formulate the problem\n",
    "problem = cp.Problem(objective, constraints)\n",
    "\n",
    "# Since gamma is a parameter, we can compute the portfolio for different values of gamma\n",
    "gamma_vals = np.logspace(-2, 3, 50)  # You can adjust this range\n",
    "weights = []\n",
    "\n",
    "for val in gamma_vals:\n",
    "    gamma.value = val\n",
    "    problem.solve()\n",
    "    weights.append(x.value)\n",
    "\n",
    "# Find the gamma value that gives 20% weight to CHF\n",
    "for idx, weight in enumerate(weights):\n",
    "    if abs(weight[0] - 0.20) < 1e-5:  # A small tolerance value\n",
    "        optimal_gamma = gamma_vals[idx]\n",
    "        break\n",
    "\n",
    "print(f\"Optimal gamma that gives 20% weight to CHF: {optimal_gamma}\")\n",
    "print(f\"Weights for this gamma value: {weights[idx]}\")\n"
   ]
  }
 ],
 "metadata": {
  "kernelspec": {
   "display_name": "Python 3 (ipykernel)",
   "language": "python",
   "name": "python3"
  },
  "language_info": {
   "codemirror_mode": {
    "name": "ipython",
    "version": 3
   },
   "file_extension": ".py",
   "mimetype": "text/x-python",
   "name": "python",
   "nbconvert_exporter": "python",
   "pygments_lexer": "ipython3",
   "version": "3.11.5"
  }
 },
 "nbformat": 4,
 "nbformat_minor": 5
}
