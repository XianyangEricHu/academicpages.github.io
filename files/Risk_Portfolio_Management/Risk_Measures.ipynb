{
 "cells": [
  {
   "cell_type": "markdown",
   "id": "39e37eaa",
   "metadata": {},
   "source": [
    "## cVaR\n",
    "\n",
    "$X$ is a standard (mean 0 , variance 1 ) normal distribution and $Y$ is a Weibull distribution with cdf $$F(x)=\\exp (x-1)$$ for $-\\infty \\leq x \\leq 1$. For what $p>0.65$ does $cVaR_X(p)=cVaR_Y(p)$ ? you will need a calculation engine or a little Python code."
   ]
  },
  {
   "cell_type": "code",
   "execution_count": 1,
   "id": "1dcd1b30",
   "metadata": {},
   "outputs": [
    {
     "name": "stdout",
     "output_type": "stream",
     "text": [
      "Intel MKL WARNING: Support of Intel(R) Streaming SIMD Extensions 4.2 (Intel(R) SSE4.2) enabled only processors has been deprecated. Intel oneAPI Math Kernel Library 2025.0 will require Intel(R) Advanced Vector Extensions (Intel(R) AVX) instructions.\n",
      "Intel MKL WARNING: Support of Intel(R) Streaming SIMD Extensions 4.2 (Intel(R) SSE4.2) enabled only processors has been deprecated. Intel oneAPI Math Kernel Library 2025.0 will require Intel(R) Advanced Vector Extensions (Intel(R) AVX) instructions.\n",
      "The value of p for which VaR_X(p) = VaR_Y(p) is: 0.76989387870113\n"
     ]
    }
   ],
   "source": [
    "from scipy.stats import norm\n",
    "from scipy.optimize import fsolve\n",
    "import numpy as np\n",
    "def equation(p):\n",
    "    # VaR for standard normal\n",
    "    var_X = norm.ppf(p)\n",
    "    # VaR for the given Weibull distribution\n",
    "    var_Y = 1 + np.log(p)\n",
    "    return var_X - var_Y\n",
    "\n",
    "# Use fsolve to solve for p\n",
    "p_initial_guess = 0.7\n",
    "p_solution = fsolve(equation, p_initial_guess)\n",
    "\n",
    "print(f\"The value of p for which VaR_X(p) = VaR_Y(p) is: {p_solution[0]}\")"
   ]
  },
  {
   "cell_type": "code",
   "execution_count": 2,
   "id": "0d9948bc",
   "metadata": {},
   "outputs": [
    {
     "name": "stdout",
     "output_type": "stream",
     "text": [
      "The value of p for which cVaR_X(p) = cVaR_Y(p) is: 0.6607191029073377\n"
     ]
    }
   ],
   "source": [
    "from scipy.stats import norm\n",
    "from scipy.integrate import quad\n",
    "import numpy as np\n",
    "\n",
    "def cvar_X(p):\n",
    "    return -norm.ppf(p)\n",
    "\n",
    "def cvar_Y(p):\n",
    "    var_Y = 1 + np.log(p)\n",
    "    integrand = lambda x: x * np.exp(x - 1)\n",
    "    integral, _ = quad(integrand, -np.inf, var_Y)\n",
    "    return integral/p\n",
    "\n",
    "def equation(p):\n",
    "    return cvar_X(p) - cvar_Y(p)\n",
    "\n",
    "# Use fsolve to solve for p\n",
    "p_initial_guess = 0.7\n",
    "p_solution = fsolve(equation, p_initial_guess)\n",
    "\n",
    "print(f\"The value of p for which cVaR_X(p) = cVaR_Y(p) is: {p_solution[0]}\")"
   ]
  },
  {
   "cell_type": "code",
   "execution_count": 3,
   "id": "041cab19",
   "metadata": {},
   "outputs": [
    {
     "name": "stdout",
     "output_type": "stream",
     "text": [
      "0.6587508750875087\n"
     ]
    }
   ],
   "source": [
    "import numpy as np\n",
    "from scipy.stats import norm\n",
    "from scipy.integrate import quad\n",
    "\n",
    "def cVaR_X(p):\n",
    "    var_x = norm.ppf(1-p)\n",
    "    integral, _ = quad(lambda x: x * norm.pdf(x), var_x, np.inf)\n",
    "    return integral / (1 - p)\n",
    "\n",
    "def cVaR_Y(p):\n",
    "    var_y = np.log(1-p) + 1\n",
    "    integral, _ = quad(lambda x: x * np.exp(x - 1), var_y, 1)\n",
    "    return integral / (1 - p)\n",
    "\n",
    "# Search for p\n",
    "for p in np.linspace(0.65, 1, 10000):\n",
    "    if abs(cVaR_X(p) - cVaR_Y(p)) < 1e-4:\n",
    "        print(p)\n",
    "        break"
   ]
  },
  {
   "cell_type": "code",
   "execution_count": 4,
   "id": "fe29ca43",
   "metadata": {},
   "outputs": [
    {
     "name": "stdout",
     "output_type": "stream",
     "text": [
      "The value of p for which VaR_X(1-p) = VaR_Y(1-p) is: 0.8949429530714774\n"
     ]
    }
   ],
   "source": [
    "from scipy.stats import norm\n",
    "from scipy.optimize import fsolve\n",
    "import numpy as np\n",
    "\n",
    "def equation(p):\n",
    "    # VaR for standard normal\n",
    "    var_X = norm.ppf(1-p)\n",
    "    \n",
    "    # Check to avoid log(0)\n",
    "    if 1-p <= 0.000001:\n",
    "        return 1e10\n",
    "    \n",
    "    # VaR for the given Weibull distribution\n",
    "    var_Y = 1 + np.log(1-p)\n",
    "    return var_X - var_Y\n",
    "\n",
    "# Use fsolve to solve for p\n",
    "p_initial_guess = 0.8\n",
    "p_solution = fsolve(equation, p_initial_guess)\n",
    "\n",
    "print(f\"The value of p for which VaR_X(1-p) = VaR_Y(1-p) is: {p_solution[0]}\")\n"
   ]
  },
  {
   "cell_type": "markdown",
   "id": "06d94dd6",
   "metadata": {},
   "source": [
    "## Capital Buffer \n",
    "\n",
    "Suppose that your trading desk invests 1 billion each month in the equal-weighted portfolio of the 11 companies in ratio_data.xlsx. Further suppose that the current time is December 31 of the year that ends one year before the last year in ratio_data.xlsx. As the risk manager for this desk, you must specify at the current time a buffer amount of money to set aside that will equal the worst monthly loss in the coming year. You will be fired if you set aside too much or too little by more than 10 million. Based on the metrics discussed in Chapter 2, how much should you set aside at the current time to maximize your chances of keeping your job? Would you have kept your job at the end of the most recent year?"
   ]
  },
  {
   "cell_type": "code",
   "execution_count": 5,
   "id": "2c5d9b36",
   "metadata": {},
   "outputs": [],
   "source": [
    "import pandas as pd\n",
    "data = pd.read_excel('ratio_data.xlsx')"
   ]
  },
  {
   "cell_type": "code",
   "execution_count": 6,
   "id": "ee219025",
   "metadata": {},
   "outputs": [
    {
     "data": {
      "text/html": [
       "<div>\n",
       "<style scoped>\n",
       "    .dataframe tbody tr th:only-of-type {\n",
       "        vertical-align: middle;\n",
       "    }\n",
       "\n",
       "    .dataframe tbody tr th {\n",
       "        vertical-align: top;\n",
       "    }\n",
       "\n",
       "    .dataframe thead th {\n",
       "        text-align: right;\n",
       "    }\n",
       "</style>\n",
       "<table border=\"1\" class=\"dataframe\">\n",
       "  <thead>\n",
       "    <tr style=\"text-align: right;\">\n",
       "      <th></th>\n",
       "      <th>Date</th>\n",
       "      <th>AAPL</th>\n",
       "      <th>AMZN</th>\n",
       "      <th>ED</th>\n",
       "      <th>F</th>\n",
       "      <th>JNJ</th>\n",
       "      <th>JPM</th>\n",
       "      <th>ORCL</th>\n",
       "      <th>TSLA</th>\n",
       "      <th>V</th>\n",
       "      <th>WMT</th>\n",
       "      <th>XOM</th>\n",
       "    </tr>\n",
       "  </thead>\n",
       "  <tbody>\n",
       "    <tr>\n",
       "      <th>0</th>\n",
       "      <td>2021-12-31</td>\n",
       "      <td>1.074229</td>\n",
       "      <td>0.950748</td>\n",
       "      <td>1.098918</td>\n",
       "      <td>1.082335</td>\n",
       "      <td>1.097095</td>\n",
       "      <td>0.996978</td>\n",
       "      <td>0.961098</td>\n",
       "      <td>0.923145</td>\n",
       "      <td>1.118388</td>\n",
       "      <td>1.033013</td>\n",
       "      <td>1.022560</td>\n",
       "    </tr>\n",
       "    <tr>\n",
       "      <th>1</th>\n",
       "      <td>2021-11-30</td>\n",
       "      <td>1.105082</td>\n",
       "      <td>1.039924</td>\n",
       "      <td>1.039940</td>\n",
       "      <td>1.129194</td>\n",
       "      <td>0.963601</td>\n",
       "      <td>0.934899</td>\n",
       "      <td>0.945799</td>\n",
       "      <td>1.027612</td>\n",
       "      <td>0.916613</td>\n",
       "      <td>0.941173</td>\n",
       "      <td>0.940658</td>\n",
       "    </tr>\n",
       "    <tr>\n",
       "      <th>2</th>\n",
       "      <td>2021-10-29</td>\n",
       "      <td>1.058657</td>\n",
       "      <td>1.026602</td>\n",
       "      <td>1.038711</td>\n",
       "      <td>1.206215</td>\n",
       "      <td>1.008545</td>\n",
       "      <td>1.044131</td>\n",
       "      <td>1.104944</td>\n",
       "      <td>1.436530</td>\n",
       "      <td>0.950707</td>\n",
       "      <td>1.072033</td>\n",
       "      <td>1.096056</td>\n",
       "    </tr>\n",
       "    <tr>\n",
       "      <th>3</th>\n",
       "      <td>2021-09-30</td>\n",
       "      <td>0.931963</td>\n",
       "      <td>0.946482</td>\n",
       "      <td>0.962094</td>\n",
       "      <td>1.086723</td>\n",
       "      <td>0.932825</td>\n",
       "      <td>1.023382</td>\n",
       "      <td>0.977561</td>\n",
       "      <td>1.054042</td>\n",
       "      <td>0.972283</td>\n",
       "      <td>0.941121</td>\n",
       "      <td>1.078870</td>\n",
       "    </tr>\n",
       "    <tr>\n",
       "      <th>4</th>\n",
       "      <td>2021-08-31</td>\n",
       "      <td>1.042489</td>\n",
       "      <td>1.043034</td>\n",
       "      <td>1.033005</td>\n",
       "      <td>0.934050</td>\n",
       "      <td>1.011375</td>\n",
       "      <td>1.053828</td>\n",
       "      <td>1.022837</td>\n",
       "      <td>1.070605</td>\n",
       "      <td>0.931094</td>\n",
       "      <td>1.042757</td>\n",
       "      <td>0.961355</td>\n",
       "    </tr>\n",
       "    <tr>\n",
       "      <th>...</th>\n",
       "      <td>...</td>\n",
       "      <td>...</td>\n",
       "      <td>...</td>\n",
       "      <td>...</td>\n",
       "      <td>...</td>\n",
       "      <td>...</td>\n",
       "      <td>...</td>\n",
       "      <td>...</td>\n",
       "      <td>...</td>\n",
       "      <td>...</td>\n",
       "      <td>...</td>\n",
       "      <td>...</td>\n",
       "    </tr>\n",
       "    <tr>\n",
       "      <th>115</th>\n",
       "      <td>2012-05-31</td>\n",
       "      <td>0.989297</td>\n",
       "      <td>0.918111</td>\n",
       "      <td>1.025682</td>\n",
       "      <td>0.936170</td>\n",
       "      <td>0.968322</td>\n",
       "      <td>0.771289</td>\n",
       "      <td>0.900340</td>\n",
       "      <td>0.890432</td>\n",
       "      <td>0.938508</td>\n",
       "      <td>1.124879</td>\n",
       "      <td>0.916976</td>\n",
       "    </tr>\n",
       "    <tr>\n",
       "      <th>116</th>\n",
       "      <td>2012-04-30</td>\n",
       "      <td>0.974031</td>\n",
       "      <td>1.145129</td>\n",
       "      <td>1.017631</td>\n",
       "      <td>0.907759</td>\n",
       "      <td>0.986962</td>\n",
       "      <td>0.940873</td>\n",
       "      <td>1.010281</td>\n",
       "      <td>0.889635</td>\n",
       "      <td>1.042203</td>\n",
       "      <td>0.962582</td>\n",
       "      <td>0.995503</td>\n",
       "    </tr>\n",
       "    <tr>\n",
       "      <th>117</th>\n",
       "      <td>2012-03-30</td>\n",
       "      <td>1.105283</td>\n",
       "      <td>1.126996</td>\n",
       "      <td>1.005508</td>\n",
       "      <td>1.008077</td>\n",
       "      <td>1.013522</td>\n",
       "      <td>1.171764</td>\n",
       "      <td>0.996923</td>\n",
       "      <td>1.114636</td>\n",
       "      <td>1.014007</td>\n",
       "      <td>1.042817</td>\n",
       "      <td>1.002659</td>\n",
       "    </tr>\n",
       "    <tr>\n",
       "      <th>118</th>\n",
       "      <td>2012-02-29</td>\n",
       "      <td>1.188311</td>\n",
       "      <td>0.924141</td>\n",
       "      <td>0.995600</td>\n",
       "      <td>0.996780</td>\n",
       "      <td>0.996129</td>\n",
       "      <td>1.052011</td>\n",
       "      <td>1.036866</td>\n",
       "      <td>1.149295</td>\n",
       "      <td>1.158512</td>\n",
       "      <td>0.962842</td>\n",
       "      <td>1.038613</td>\n",
       "    </tr>\n",
       "    <tr>\n",
       "      <th>119</th>\n",
       "      <td>2012-01-31</td>\n",
       "      <td>1.127111</td>\n",
       "      <td>1.123281</td>\n",
       "      <td>0.950508</td>\n",
       "      <td>1.158805</td>\n",
       "      <td>1.005032</td>\n",
       "      <td>1.129880</td>\n",
       "      <td>1.102261</td>\n",
       "      <td>1.017857</td>\n",
       "      <td>0.991234</td>\n",
       "      <td>1.026774</td>\n",
       "      <td>0.987966</td>\n",
       "    </tr>\n",
       "  </tbody>\n",
       "</table>\n",
       "<p>120 rows × 12 columns</p>\n",
       "</div>"
      ],
      "text/plain": [
       "          Date      AAPL      AMZN        ED         F       JNJ       JPM  \\\n",
       "0   2021-12-31  1.074229  0.950748  1.098918  1.082335  1.097095  0.996978   \n",
       "1   2021-11-30  1.105082  1.039924  1.039940  1.129194  0.963601  0.934899   \n",
       "2   2021-10-29  1.058657  1.026602  1.038711  1.206215  1.008545  1.044131   \n",
       "3   2021-09-30  0.931963  0.946482  0.962094  1.086723  0.932825  1.023382   \n",
       "4   2021-08-31  1.042489  1.043034  1.033005  0.934050  1.011375  1.053828   \n",
       "..         ...       ...       ...       ...       ...       ...       ...   \n",
       "115 2012-05-31  0.989297  0.918111  1.025682  0.936170  0.968322  0.771289   \n",
       "116 2012-04-30  0.974031  1.145129  1.017631  0.907759  0.986962  0.940873   \n",
       "117 2012-03-30  1.105283  1.126996  1.005508  1.008077  1.013522  1.171764   \n",
       "118 2012-02-29  1.188311  0.924141  0.995600  0.996780  0.996129  1.052011   \n",
       "119 2012-01-31  1.127111  1.123281  0.950508  1.158805  1.005032  1.129880   \n",
       "\n",
       "         ORCL      TSLA         V       WMT       XOM  \n",
       "0    0.961098  0.923145  1.118388  1.033013  1.022560  \n",
       "1    0.945799  1.027612  0.916613  0.941173  0.940658  \n",
       "2    1.104944  1.436530  0.950707  1.072033  1.096056  \n",
       "3    0.977561  1.054042  0.972283  0.941121  1.078870  \n",
       "4    1.022837  1.070605  0.931094  1.042757  0.961355  \n",
       "..        ...       ...       ...       ...       ...  \n",
       "115  0.900340  0.890432  0.938508  1.124879  0.916976  \n",
       "116  1.010281  0.889635  1.042203  0.962582  0.995503  \n",
       "117  0.996923  1.114636  1.014007  1.042817  1.002659  \n",
       "118  1.036866  1.149295  1.158512  0.962842  1.038613  \n",
       "119  1.102261  1.017857  0.991234  1.026774  0.987966  \n",
       "\n",
       "[120 rows x 12 columns]"
      ]
     },
     "execution_count": 6,
     "metadata": {},
     "output_type": "execute_result"
    }
   ],
   "source": [
    "data"
   ]
  },
  {
   "cell_type": "markdown",
   "id": "d55e34d3",
   "metadata": {},
   "source": [
    "### Computing Metrics:"
   ]
  },
  {
   "cell_type": "code",
   "execution_count": 7,
   "id": "d076c05a",
   "metadata": {},
   "outputs": [],
   "source": [
    "# Exclude non-numeric columns when computing the average\n",
    "numeric_columns = data.select_dtypes(include=['number']).columns\n",
    "data['avg_return'] = data[numeric_columns].mean(axis=1)\n",
    "\n",
    "mean_return = data['avg_return'].mean()\n",
    "std_dev_return = data['avg_return'].std()"
   ]
  },
  {
   "cell_type": "markdown",
   "id": "fd8a2435",
   "metadata": {},
   "source": [
    "### Project Potential Losses:"
   ]
  },
  {
   "cell_type": "code",
   "execution_count": 8,
   "id": "89bed7ab",
   "metadata": {},
   "outputs": [],
   "source": [
    "from scipy.stats import norm\n",
    "confidence_level = 0.95\n",
    "var_99 = mean_return - norm.ppf(confidence_level) * std_dev_return #Parametric VaR calculation\n",
    "buffer_amount = -1 * var_99 * 1e9  # Since I invest 1 billion each month"
   ]
  },
  {
   "cell_type": "code",
   "execution_count": 9,
   "id": "a011f577",
   "metadata": {},
   "outputs": [
    {
     "name": "stdout",
     "output_type": "stream",
     "text": [
      "0.041789429478060254\n"
     ]
    }
   ],
   "source": [
    "print(std_dev_return)"
   ]
  },
  {
   "cell_type": "markdown",
   "id": "1e8f3cf3",
   "metadata": {},
   "source": [
    "### Comparison with Actual Worst Monthly Loss:"
   ]
  },
  {
   "cell_type": "code",
   "execution_count": 10,
   "id": "fa40a73b",
   "metadata": {},
   "outputs": [
    {
     "name": "stdout",
     "output_type": "stream",
     "text": [
      "Buffer Amount to Set Aside: $-950,092,897.93\n",
      "Would you have kept your job? No\n"
     ]
    }
   ],
   "source": [
    "# Convert the 'Date' column to a datetime format and set as the index\n",
    "data['Date'] = pd.to_datetime(data['Date'])\n",
    "data.set_index('Date', inplace=True)\n",
    "\n",
    "# For the comparison with actual worst monthly loss:\n",
    "most_recent_year = data.index.year.max() - 1  # The year before the last year in the data\n",
    "most_recent_year_data = data[data.index.year == most_recent_year]\n",
    "worst_loss = most_recent_year_data['avg_return'].min() * 1e9\n",
    "job_kept = (buffer_amount + 10e6) >= worst_loss >= (buffer_amount - 10e6)\n",
    "\n",
    "# Printing the results\n",
    "print(f\"Buffer Amount to Set Aside: ${buffer_amount:,.2f}\")\n",
    "print(f\"Would you have kept your job? {'Yes' if job_kept else 'No'}\")"
   ]
  }
 ],
 "metadata": {
  "kernelspec": {
   "display_name": "Python 3 (ipykernel)",
   "language": "python",
   "name": "python3"
  },
  "language_info": {
   "codemirror_mode": {
    "name": "ipython",
    "version": 3
   },
   "file_extension": ".py",
   "mimetype": "text/x-python",
   "name": "python",
   "nbconvert_exporter": "python",
   "pygments_lexer": "ipython3",
   "version": "3.11.5"
  }
 },
 "nbformat": 4,
 "nbformat_minor": 5
}
